{
 "cells": [
  {
   "cell_type": "markdown",
   "id": "7e2d4c6c",
   "metadata": {},
   "source": [
    "# sentence and word tokenization"
   ]
  },
  {
   "cell_type": "code",
   "execution_count": 45,
   "id": "81f5ed4b",
   "metadata": {},
   "outputs": [],
   "source": [
    "\n",
    "import spacy"
   ]
  },
  {
   "cell_type": "code",
   "execution_count": 47,
   "id": "83b998e5",
   "metadata": {},
   "outputs": [],
   "source": [
    "nlp = spacy.load('en_core_web_sm')"
   ]
  },
  {
   "cell_type": "code",
   "execution_count": 54,
   "id": "8978df43",
   "metadata": {},
   "outputs": [],
   "source": [
    "doc = nlp(\"Hello Sir,I would say, your videos are a great service to us. I have just one request. Would you please combine your popular playlist into one? Say combine the ML playlist into one video, Python programming into one, Algorithm and Data Structure into one, Data Science into one, and so on. Yes, the length of the video would be longer, but it would be convenient and feel like completing a course. Thank you in advance. Stay healthy.\")\n",
    "\n",
    "# for sentence in doc.s"
   ]
  },
  {
   "cell_type": "code",
   "execution_count": 58,
   "id": "013d48c9",
   "metadata": {},
   "outputs": [
    {
     "name": "stdout",
     "output_type": "stream",
     "text": [
      "Hello Sir,I would say, your videos are a great service to us. 1\n",
      "I have just one request. 2\n",
      "Would you please combine your popular playlist into one? 3\n",
      "Say combine the ML playlist into one video, Python programming into one, Algorithm and Data Structure into one, Data Science into one, and so on. 4\n",
      "Yes, the length of the video would be longer, but it would be convenient and feel like completing a course. 5\n",
      "Thank you in advance. 6\n",
      "Stay healthy. 7\n"
     ]
    }
   ],
   "source": [
    "c=0\n",
    "for sentence in doc.sents:\n",
    "    c+=1\n",
    "\n",
    "    print(sentence, c)"
   ]
  },
  {
   "cell_type": "code",
   "execution_count": 56,
   "id": "de22e25c",
   "metadata": {},
   "outputs": [],
   "source": [
    "import nltk\n",
    "from nltk.tokenize import sent_tokenize"
   ]
  },
  {
   "cell_type": "code",
   "execution_count": 122,
   "id": "050fa31f",
   "metadata": {},
   "outputs": [
    {
     "data": {
      "text/plain": [
       "['Hello Sir,I would say, your videos are a great service to us.',\n",
       " 'I have just one request.',\n",
       " 'Would you please combine your popular playlist into one?',\n",
       " 'Say combine the ML playlist into one video, Python programming into one, Algorithm and Data Structure into one, Data Science into one, and so on.',\n",
       " 'Yes, the length of the video would be longer, but it would be convenient and feel like completing a course.',\n",
       " 'Thank you in advance.',\n",
       " 'Stay healthy.']"
      ]
     },
     "execution_count": 122,
     "metadata": {},
     "output_type": "execute_result"
    }
   ],
   "source": [
    "\n",
    "sent_tokenize(\"Hello Sir,I would say, your videos are a great service to us. I have just one request. Would you please combine your popular playlist into one? Say combine the ML playlist into one video, Python programming into one, Algorithm and Data Structure into one, Data Science into one, and so on. Yes, the length of the video would be longer, but it would be convenient and feel like completing a course. Thank you in advance. Stay healthy.\")"
   ]
  },
  {
   "cell_type": "code",
   "execution_count": null,
   "id": "5e420781",
   "metadata": {},
   "outputs": [],
   "source": [
    "\n"
   ]
  }
 ],
 "metadata": {
  "kernelspec": {
   "display_name": "Python 3 (ipykernel)",
   "language": "python",
   "name": "python3"
  },
  "language_info": {
   "codemirror_mode": {
    "name": "ipython",
    "version": 3
   },
   "file_extension": ".py",
   "mimetype": "text/x-python",
   "name": "python",
   "nbconvert_exporter": "python",
   "pygments_lexer": "ipython3",
   "version": "3.10.0"
  }
 },
 "nbformat": 4,
 "nbformat_minor": 5
}
